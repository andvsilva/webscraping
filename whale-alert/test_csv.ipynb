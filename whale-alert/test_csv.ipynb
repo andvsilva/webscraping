{
 "cells": [
  {
   "cell_type": "code",
   "execution_count": 84,
   "metadata": {},
   "outputs": [],
   "source": [
    "import pandas as pd"
   ]
  },
  {
   "cell_type": "code",
   "execution_count": 85,
   "metadata": {},
   "outputs": [
    {
     "data": {
      "text/plain": [
       "'1.3.3'"
      ]
     },
     "execution_count": 85,
     "metadata": {},
     "output_type": "execute_result"
    }
   ],
   "source": [
    "pd.__version__"
   ]
  },
  {
   "cell_type": "code",
   "execution_count": 86,
   "metadata": {},
   "outputs": [
    {
     "data": {
      "text/html": [
       "<div>\n",
       "<style scoped>\n",
       "    .dataframe tbody tr th:only-of-type {\n",
       "        vertical-align: middle;\n",
       "    }\n",
       "\n",
       "    .dataframe tbody tr th {\n",
       "        vertical-align: top;\n",
       "    }\n",
       "\n",
       "    .dataframe thead th {\n",
       "        text-align: right;\n",
       "    }\n",
       "</style>\n",
       "<table border=\"1\" class=\"dataframe\">\n",
       "  <thead>\n",
       "    <tr style=\"text-align: right;\">\n",
       "      <th></th>\n",
       "      <th>Unnamed: 0</th>\n",
       "      <th>blockchain</th>\n",
       "      <th>amount_coin</th>\n",
       "      <th>amount_usd</th>\n",
       "      <th>hash</th>\n",
       "      <th>from_to</th>\n",
       "      <th>id</th>\n",
       "      <th>date</th>\n",
       "    </tr>\n",
       "  </thead>\n",
       "  <tbody>\n",
       "    <tr>\n",
       "      <th>0</th>\n",
       "      <td>0</td>\n",
       "      <td>USDT</td>\n",
       "      <td>613416.6</td>\n",
       "      <td>613416.6</td>\n",
       "      <td>a161c7f5daefaa211f1eefd3b6862f99b3d176e057b64a...</td>\n",
       "      <td>unknown-unknown</td>\n",
       "      <td>1788121177</td>\n",
       "      <td>2022-01-25 15:25:07</td>\n",
       "    </tr>\n",
       "    <tr>\n",
       "      <th>1</th>\n",
       "      <td>1</td>\n",
       "      <td>USDT</td>\n",
       "      <td>1999965.0</td>\n",
       "      <td>1999965.0</td>\n",
       "      <td>91c7da3d09d66c220eaa40c38a516060918f98f7f18a0d...</td>\n",
       "      <td>unknown-exchange</td>\n",
       "      <td>1788121386</td>\n",
       "      <td>2022-01-25 15:26:10</td>\n",
       "    </tr>\n",
       "  </tbody>\n",
       "</table>\n",
       "</div>"
      ],
      "text/plain": [
       "   Unnamed: 0 blockchain  amount_coin  amount_usd  \\\n",
       "0           0       USDT     613416.6    613416.6   \n",
       "1           1       USDT    1999965.0   1999965.0   \n",
       "\n",
       "                                                hash           from_to  \\\n",
       "0  a161c7f5daefaa211f1eefd3b6862f99b3d176e057b64a...   unknown-unknown   \n",
       "1  91c7da3d09d66c220eaa40c38a516060918f98f7f18a0d...  unknown-exchange   \n",
       "\n",
       "           id                 date  \n",
       "0  1788121177  2022-01-25 15:25:07  \n",
       "1  1788121386  2022-01-25 15:26:10  "
      ]
     },
     "execution_count": 86,
     "metadata": {},
     "output_type": "execute_result"
    }
   ],
   "source": [
    "database_txo = pd.read_csv('dataset/database_txo.csv')\n",
    "database_txo"
   ]
  }
 ],
 "metadata": {
  "interpreter": {
   "hash": "e9fdd6a906b0a436d5024ede8a58cdb85cf91b189ffbb474863b8f211ce55112"
  },
  "kernelspec": {
   "display_name": "Python 3.8.11 64-bit ('base': conda)",
   "language": "python",
   "name": "python3"
  },
  "language_info": {
   "codemirror_mode": {
    "name": "ipython",
    "version": 3
   },
   "file_extension": ".py",
   "mimetype": "text/x-python",
   "name": "python",
   "nbconvert_exporter": "python",
   "pygments_lexer": "ipython3",
   "version": "3.8.11"
  },
  "orig_nbformat": 4
 },
 "nbformat": 4,
 "nbformat_minor": 2
}
