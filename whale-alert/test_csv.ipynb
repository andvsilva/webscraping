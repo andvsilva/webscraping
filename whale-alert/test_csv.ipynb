{
 "cells": [
  {
   "cell_type": "code",
   "execution_count": 64,
   "metadata": {},
   "outputs": [],
   "source": [
    "import pandas as pd"
   ]
  },
  {
   "cell_type": "code",
   "execution_count": 65,
   "metadata": {},
   "outputs": [
    {
     "data": {
      "text/html": [
       "<div>\n",
       "<style scoped>\n",
       "    .dataframe tbody tr th:only-of-type {\n",
       "        vertical-align: middle;\n",
       "    }\n",
       "\n",
       "    .dataframe tbody tr th {\n",
       "        vertical-align: top;\n",
       "    }\n",
       "\n",
       "    .dataframe thead th {\n",
       "        text-align: right;\n",
       "    }\n",
       "</style>\n",
       "<table border=\"1\" class=\"dataframe\">\n",
       "  <thead>\n",
       "    <tr style=\"text-align: right;\">\n",
       "      <th></th>\n",
       "      <th>blockchain</th>\n",
       "      <th>amount_coin</th>\n",
       "      <th>amount_usd</th>\n",
       "      <th>hash</th>\n",
       "      <th>from_to</th>\n",
       "      <th>id</th>\n",
       "      <th>date</th>\n",
       "      <th>price</th>\n",
       "      <th>change24h_pct</th>\n",
       "    </tr>\n",
       "  </thead>\n",
       "  <tbody>\n",
       "    <tr>\n",
       "      <th>0</th>\n",
       "      <td>BTC</td>\n",
       "      <td>94.138664</td>\n",
       "      <td>3794020.2</td>\n",
       "      <td>da126e7deb4d6bd6a808a21a011d7d8486308654bb9512...</td>\n",
       "      <td>unknown-unknown</td>\n",
       "      <td>1829784759</td>\n",
       "      <td>2022-04-17 18:23:35</td>\n",
       "      <td>40223.38</td>\n",
       "      <td>-0.42</td>\n",
       "    </tr>\n",
       "    <tr>\n",
       "      <th>1</th>\n",
       "      <td>BTC</td>\n",
       "      <td>93.927950</td>\n",
       "      <td>3779752.2</td>\n",
       "      <td>5a1273b72fde2623eb8fce91781eb72727447bbc89df0b...</td>\n",
       "      <td>unknown-unknown</td>\n",
       "      <td>1829786877</td>\n",
       "      <td>2022-04-17 18:38:28</td>\n",
       "      <td>40224.68</td>\n",
       "      <td>-0.55</td>\n",
       "    </tr>\n",
       "  </tbody>\n",
       "</table>\n",
       "</div>"
      ],
      "text/plain": [
       "  blockchain  amount_coin  amount_usd  \\\n",
       "0        BTC    94.138664   3794020.2   \n",
       "1        BTC    93.927950   3779752.2   \n",
       "\n",
       "                                                hash          from_to  \\\n",
       "0  da126e7deb4d6bd6a808a21a011d7d8486308654bb9512...  unknown-unknown   \n",
       "1  5a1273b72fde2623eb8fce91781eb72727447bbc89df0b...  unknown-unknown   \n",
       "\n",
       "           id                 date     price  change24h_pct  \n",
       "0  1829784759  2022-04-17 18:23:35  40223.38          -0.42  \n",
       "1  1829786877  2022-04-17 18:38:28  40224.68          -0.55  "
      ]
     },
     "execution_count": 65,
     "metadata": {},
     "output_type": "execute_result"
    }
   ],
   "source": [
    "database_txo = pd.read_csv('dataset/database_txo_btc.csv')\n",
    "database_txo"
   ]
  }
 ],
 "metadata": {
  "interpreter": {
   "hash": "e9fdd6a906b0a436d5024ede8a58cdb85cf91b189ffbb474863b8f211ce55112"
  },
  "kernelspec": {
   "display_name": "Python 3.8.11 64-bit ('base': conda)",
   "language": "python",
   "name": "python3"
  },
  "language_info": {
   "codemirror_mode": {
    "name": "ipython",
    "version": 3
   },
   "file_extension": ".py",
   "mimetype": "text/x-python",
   "name": "python",
   "nbconvert_exporter": "python",
   "pygments_lexer": "ipython3",
   "version": "3.9.12"
  },
  "orig_nbformat": 4
 },
 "nbformat": 4,
 "nbformat_minor": 2
}
